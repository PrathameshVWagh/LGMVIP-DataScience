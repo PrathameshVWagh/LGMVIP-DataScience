{
  "cells": [
    {
      "cell_type": "markdown",
      "metadata": {
        "id": "view-in-github",
        "colab_type": "text"
      },
      "source": [
        "<a href=\"https://colab.research.google.com/github/PrathameshVWagh/LGMVIP-DataScience/blob/main/imageToPencilSketch.ipynb\" target=\"_parent\"><img src=\"https://colab.research.google.com/assets/colab-badge.svg\" alt=\"Open In Colab\"/></a>"
      ]
    },
    {
      "cell_type": "markdown",
      "metadata": {
        "id": "WVF-i6wijE7x"
      },
      "source": [
        "# **LetsGrowMore** **Data** **Science** **Intenship** **December** **2021**\n",
        "\n",
        "# **Task 1 :- Beginner Level **\n",
        "# **Task Name  :- Image to Pencil Sketch with Python**\n",
        "\n",
        "**Author:- Prathamesh Vasantrao Wagh**\n",
        "\n",
        "Language Used :- Python \n",
        "\n",
        "Editor :- Google Colab\n"
      ]
    },
    {
      "cell_type": "markdown",
      "metadata": {
        "id": "BF-V8yGTiaJW"
      },
      "source": [
        "# **Image** **to** **Pencil** **Sketch** **with** **Python** \n",
        "\n",
        "*   Here we are trying to convert any image to it's Pencil Sketch image\n",
        "*   Now we use the OpenCV library to convert the image\n",
        "\n",
        "\n"
      ]
    },
    {
      "cell_type": "markdown",
      "metadata": {
        "id": "RsFKJM16j_J0"
      },
      "source": [
        "Step 1 :- **Importing Required Library** \n",
        "\n",
        "Step 2 :- **Read that image**"
      ]
    },
    {
      "cell_type": "code",
      "execution_count": null,
      "metadata": {
        "id": "CfqWuOhVdL2T"
      },
      "outputs": [],
      "source": [
        "import numpy as np\n",
        "import cv2\n",
        "img = cv2.imread(\"/content/Nature.jpg\")\n"
      ]
    },
    {
      "cell_type": "markdown",
      "metadata": {
        "id": "lu2ZwWRzkNzy"
      },
      "source": [
        "Step 3:- **Display that Image**"
      ]
    },
    {
      "cell_type": "code",
      "execution_count": null,
      "metadata": {
        "colab": {
          "background_save": true
        },
        "id": "CwQw72TrdoFr",
        "outputId": "64da697e-965f-410a-930c-d5ebfb39f370"
      },
      "outputs": [],
      "source": [
        "from google.colab.patches import cv2_imshow\n",
        "cv2_imshow(img)\n",
        "cv2.waitKey(0)\n"
      ]
    },
    {
      "cell_type": "markdown",
      "metadata": {
        "id": "BJ-L-kfrkq6f"
      },
      "source": [
        "Step 4 :- **Converting the original image to Greyscale**"
      ]
    },
    {
      "cell_type": "code",
      "execution_count": null,
      "metadata": {
        "colab": {
          "background_save": true
        },
        "id": "pC_4WFHVefLZ",
        "outputId": "d4e14cbb-e984-49ee-a0c4-eaf083acc309"
      },
      "outputs": [],
      "source": [
        "from google.colab.patches import cv2_imshow\n",
        "gray_image = cv2.cvtColor(img, cv2.COLOR_BGR2GRAY)\n",
        "cv2_imshow(gray_image)"
      ]
    },
    {
      "cell_type": "markdown",
      "metadata": {
        "id": "CiQSN-FIk5u2"
      },
      "source": [
        "Step 5 :-  **Invert the new grayscale image**"
      ]
    },
    {
      "cell_type": "code",
      "execution_count": null,
      "metadata": {
        "colab": {
          "background_save": true
        },
        "id": "p4mruBqfgGuD",
        "outputId": "af66a59f-224c-4f11-ac71-9a7143b1973d"
      },
      "outputs": [],
      "source": [
        "\n",
        "inverted_image = 250 - gray_image\n",
        "cv2_imshow(inverted_image)"
      ]
    },
    {
      "cell_type": "markdown",
      "metadata": {
        "id": "9Qjl4GfPlIF9"
      },
      "source": [
        "Step 6 :- **Blur the image using GaussianBlur() function and display that image**"
      ]
    },
    {
      "cell_type": "code",
      "execution_count": null,
      "metadata": {
        "colab": {
          "background_save": true
        },
        "id": "PQGbA7SDg5no",
        "outputId": "f601e0b6-9d2d-4334-b812-f36a3fdaa45c"
      },
      "outputs": [],
      "source": [
        "blurred = cv2.GaussianBlur(inverted_image, (21, 21), 0)\n",
        "cv2_imshow(blurred)"
      ]
    },
    {
      "cell_type": "markdown",
      "metadata": {
        "id": "S11jgwGkleHb"
      },
      "source": [
        "Step 7 :- **Invert the blurred image**\n",
        "\n",
        "Step 8 :- **Convert the image into a Pencil Sketch** "
      ]
    },
    {
      "cell_type": "code",
      "execution_count": null,
      "metadata": {
        "colab": {
          "background_save": true
        },
        "id": "odUshzfhhaYz",
        "outputId": "7dea880d-df20-4218-94b9-88568c7dec8c"
      },
      "outputs": [],
      "source": [
        "inverted_blurred = 255 - blurred\n",
        "pencil_sketch = cv2.divide(gray_image, inverted_blurred, scale=256.0)\n",
        "cv2_imshow(pencil_sketch)\n"
      ]
    },
    {
      "cell_type": "markdown",
      "metadata": {
        "id": "YFRvpx9zl6Ka"
      },
      "source": [
        "Last Step :- **Visualize the Original Image and Pencil Sketch Image**"
      ]
    },
    {
      "cell_type": "code",
      "execution_count": null,
      "metadata": {
        "colab": {
          "background_save": true
        },
        "id": "84BOUcK2hu60",
        "outputId": "08bfb98a-25fe-4313-bcb6-44cc831cf24a"
      },
      "outputs": [],
      "source": [
        "cv2_imshow(img)\n",
        "cv2_imshow(pencil_sketch)"
      ]
    }
  ],
  "metadata": {
    "colab": {
      "collapsed_sections": [],
      "name": "imageToPencilSketch.ipynb",
      "provenance": [],
      "authorship_tag": "ABX9TyNwTHCUqHvttw4kH3f4C5vy",
      "include_colab_link": true
    },
    "kernelspec": {
      "display_name": "Python 3",
      "name": "python3"
    },
    "language_info": {
      "name": "python"
    }
  },
  "nbformat": 4,
  "nbformat_minor": 0
}